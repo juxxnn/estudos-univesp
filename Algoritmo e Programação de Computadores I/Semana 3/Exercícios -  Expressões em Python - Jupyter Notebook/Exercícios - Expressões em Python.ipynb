{
 "cells": [
  {
   "cell_type": "markdown",
   "id": "aeb3099c",
   "metadata": {},
   "source": [
    "### Exemplos de Listas em Python"
   ]
  },
  {
   "cell_type": "code",
   "execution_count": 2,
   "id": "784c77a9",
   "metadata": {},
   "outputs": [],
   "source": [
    "pets = ['cao', 'gato', 'peixe']"
   ]
  },
  {
   "cell_type": "code",
   "execution_count": 3,
   "id": "6d157d47",
   "metadata": {},
   "outputs": [
    {
     "data": {
      "text/plain": [
       "['cao', 'gato', 'peixe']"
      ]
     },
     "execution_count": 3,
     "metadata": {},
     "output_type": "execute_result"
    }
   ],
   "source": [
    "pets"
   ]
  },
  {
   "cell_type": "code",
   "execution_count": 4,
   "id": "6d1091be",
   "metadata": {},
   "outputs": [],
   "source": [
    "l = [1, 'ab', [], [1,2]]"
   ]
  },
  {
   "cell_type": "code",
   "execution_count": 5,
   "id": "9715dfdb",
   "metadata": {},
   "outputs": [
    {
     "data": {
      "text/plain": [
       "[1, 'ab', [], [1, 2]]"
      ]
     },
     "execution_count": 5,
     "metadata": {},
     "output_type": "execute_result"
    }
   ],
   "source": [
    "l"
   ]
  },
  {
   "cell_type": "code",
   "execution_count": 6,
   "id": "8722be92",
   "metadata": {},
   "outputs": [
    {
     "data": {
      "text/plain": [
       "'cao'"
      ]
     },
     "execution_count": 6,
     "metadata": {},
     "output_type": "execute_result"
    }
   ],
   "source": [
    "pets[0]"
   ]
  },
  {
   "cell_type": "markdown",
   "id": "bf1297cc",
   "metadata": {},
   "source": [
    "# Exercícios do livro Introdução a Computação Usando Python."
   ]
  },
  {
   "cell_type": "markdown",
   "id": "79ada75b",
   "metadata": {},
   "source": [
    "#### Primeiro, execute a atribuição: \n",
    "#### palavras = ['taco', 'bola', 'celeiro', 'cesta', 'peteca'] \n",
    "#### Agora, escreva duas expressões Python que são avaliadas, respectivamente, como a primeiro e a última palavras em palavras, na ordem do dicionário."
   ]
  },
  {
   "cell_type": "code",
   "execution_count": 7,
   "id": "c01d3263",
   "metadata": {},
   "outputs": [],
   "source": [
    "palavras = ['taco', 'bola', 'celeiro', 'cesta', 'peteca']"
   ]
  },
  {
   "cell_type": "code",
   "execution_count": 8,
   "id": "460e99a2",
   "metadata": {},
   "outputs": [
    {
     "data": {
      "text/plain": [
       "'bola'"
      ]
     },
     "execution_count": 8,
     "metadata": {},
     "output_type": "execute_result"
    }
   ],
   "source": [
    "min(palavras)"
   ]
  },
  {
   "cell_type": "code",
   "execution_count": 9,
   "id": "15efa028",
   "metadata": {},
   "outputs": [
    {
     "data": {
      "text/plain": [
       "'taco'"
      ]
     },
     "execution_count": 9,
     "metadata": {},
     "output_type": "execute_result"
    }
   ],
   "source": [
    "max(palavras)"
   ]
  },
  {
   "cell_type": "markdown",
   "id": "a69dc124",
   "metadata": {},
   "source": [
    "#### Dada a lista de notas de trabalho de casa dos alunos \n",
    "#### >>> notas = [9, 7, 7, 10, 3, 9, 6, 6, 2] \n",
    "#### escreva: "
   ]
  },
  {
   "cell_type": "code",
   "execution_count": 21,
   "id": "3d0dd65c",
   "metadata": {},
   "outputs": [],
   "source": [
    "notas = [9, 7, 7, 10, 3, 9, 6, 6, 2]"
   ]
  },
  {
   "cell_type": "code",
   "execution_count": 12,
   "id": "97b5f8e7",
   "metadata": {
    "scrolled": false
   },
   "outputs": [
    {
     "data": {
      "text/plain": [
       "2"
      ]
     },
     "execution_count": 12,
     "metadata": {},
     "output_type": "execute_result"
    }
   ],
   "source": [
    "#  (a) Uma expressão que avalia para o número de 7 notas. \n",
    "\n",
    "notas.count(7)"
   ]
  },
  {
   "cell_type": "code",
   "execution_count": 14,
   "id": "764ce6fa",
   "metadata": {},
   "outputs": [
    {
     "data": {
      "text/plain": [
       "[9, 7, 7, 10, 3, 9, 6, 6, 4]"
      ]
     },
     "execution_count": 14,
     "metadata": {},
     "output_type": "execute_result"
    }
   ],
   "source": [
    "# (b) Uma instrução que muda a última nota para 4. \n",
    "\n",
    "notas[-1] = 4\n",
    "notas"
   ]
  },
  {
   "cell_type": "code",
   "execution_count": 15,
   "id": "d5be5d53",
   "metadata": {},
   "outputs": [
    {
     "data": {
      "text/plain": [
       "10"
      ]
     },
     "execution_count": 15,
     "metadata": {},
     "output_type": "execute_result"
    }
   ],
   "source": [
    "# (c) Uma expressão que avalia para a nota mais alta. \n",
    "\n",
    "max(notas)"
   ]
  },
  {
   "cell_type": "code",
   "execution_count": 24,
   "id": "aa887606",
   "metadata": {},
   "outputs": [
    {
     "data": {
      "text/plain": [
       "[2, 3, 6, 6, 7, 7, 9, 9, 10]"
      ]
     },
     "execution_count": 24,
     "metadata": {},
     "output_type": "execute_result"
    }
   ],
   "source": [
    "# (d) Uma instrução que classifica as notas da lista. \n",
    "\n",
    "notas.sort()\n",
    "notas"
   ]
  },
  {
   "cell_type": "code",
   "execution_count": 27,
   "id": "a5408428",
   "metadata": {},
   "outputs": [
    {
     "data": {
      "text/plain": [
       "6.555555555555555"
      ]
     },
     "execution_count": 27,
     "metadata": {},
     "output_type": "execute_result"
    }
   ],
   "source": [
    "# (e) Uma expressão que avalia para a média das notas. \n",
    "\n",
    "sum(notas) / len(notas)"
   ]
  },
  {
   "cell_type": "markdown",
   "id": "992d57dc",
   "metadata": {},
   "source": [
    "#### Em que ordem os operadores nas expressões a seguir são avaliados? "
   ]
  },
  {
   "cell_type": "code",
   "execution_count": null,
   "id": "a403799c",
   "metadata": {},
   "outputs": [],
   "source": [
    "# (a) 2 + 3 == 4 or a >= 5 \n",
    "\n",
    "((2 + 3) == 4) or (a >= 5) "
   ]
  },
  {
   "cell_type": "code",
   "execution_count": null,
   "id": "c65a8ecf",
   "metadata": {},
   "outputs": [],
   "source": [
    "# (b) lst[1] * -3 < -10 == 0 \n",
    "\n",
    "(((lst[1]) * (-3)) < (-10)) == 0 "
   ]
  },
  {
   "cell_type": "code",
   "execution_count": null,
   "id": "647a3585",
   "metadata": {},
   "outputs": [],
   "source": [
    "# (c) (lst[1] * -3 < -10) in [0, True] \n",
    "\n",
    "(((lst[1]) * (-3)) < (-10)) in [0, True] "
   ]
  },
  {
   "cell_type": "code",
   "execution_count": null,
   "id": "7b331ec7",
   "metadata": {},
   "outputs": [],
   "source": [
    "# (d) 2 * 3**2 \n",
    "\n",
    "2 * (3**2) "
   ]
  },
  {
   "cell_type": "code",
   "execution_count": null,
   "id": "398faa49",
   "metadata": {},
   "outputs": [],
   "source": [
    "# (e) 4 / 2 in [1, 2, 3] \n",
    "\n",
    "(4 / 2) in [1, 2, 3] "
   ]
  },
  {
   "cell_type": "markdown",
   "id": "7705547d",
   "metadata": {},
   "source": [
    "#### Qual é o tipo do objeto ao qual essas expressões são avaliadas? "
   ]
  },
  {
   "cell_type": "code",
   "execution_count": null,
   "id": "5f668723",
   "metadata": {},
   "outputs": [],
   "source": [
    "# (a) False + False \n",
    "\n",
    "Resultado é int"
   ]
  },
  {
   "cell_type": "code",
   "execution_count": null,
   "id": "229052d1",
   "metadata": {},
   "outputs": [],
   "source": [
    "# (b) 2 * 3**2.0 \n",
    "\n",
    "Resultado é float."
   ]
  },
  {
   "cell_type": "code",
   "execution_count": null,
   "id": "269dea21",
   "metadata": {},
   "outputs": [],
   "source": [
    "# (c) 4 // 2 + 4 % 2 \n",
    "\n",
    "Resultado é int."
   ]
  },
  {
   "cell_type": "code",
   "execution_count": null,
   "id": "dc9c54b2",
   "metadata": {},
   "outputs": [],
   "source": [
    "# (d) 2 + 3 == 4 or 5 >= 5 \n",
    "\n",
    "Resultado é bool."
   ]
  },
  {
   "cell_type": "markdown",
   "id": "1ccb2d5c",
   "metadata": {},
   "source": [
    "#### Escreva expressões Python correspondentes ao seguinte: "
   ]
  },
  {
   "cell_type": "code",
   "execution_count": null,
   "id": "836469dc",
   "metadata": {},
   "outputs": [],
   "source": [
    "# (a) O comprimento da hipotenusa em um triângulo retângulo cujos dois outros lados têm comprimentos a e b.\n",
    "\n",
    "math.sqrt(a**2 + b**2)"
   ]
  },
  {
   "cell_type": "code",
   "execution_count": null,
   "id": "c23220f5",
   "metadata": {},
   "outputs": [],
   "source": [
    "# (b) O valor da expressão que avalia se o comprimento da hipotenusa acima é 5.\n",
    "\n",
    "math.sqrt(a**2 + b**2) == 5"
   ]
  },
  {
   "cell_type": "code",
   "execution_count": null,
   "id": "d568235a",
   "metadata": {},
   "outputs": [],
   "source": [
    "# (c) A área de um disco com raio a.\n",
    "\n",
    "math.pi * a**2"
   ]
  },
  {
   "cell_type": "code",
   "execution_count": null,
   "id": "1657eac8",
   "metadata": {},
   "outputs": [],
   "source": [
    "# (d) O valor da expressão Booleana que verifica se um ponto com coordenadas x e y está dentro de um círculo com centro (a, b) e raio r.\n",
    "\n",
    "(x - a)**2 + (y - b)**2 < r**2"
   ]
  }
 ],
 "metadata": {
  "kernelspec": {
   "display_name": "Python 3 (ipykernel)",
   "language": "python",
   "name": "python3"
  },
  "language_info": {
   "codemirror_mode": {
    "name": "ipython",
    "version": 3
   },
   "file_extension": ".py",
   "mimetype": "text/x-python",
   "name": "python",
   "nbconvert_exporter": "python",
   "pygments_lexer": "ipython3",
   "version": "3.9.7"
  }
 },
 "nbformat": 4,
 "nbformat_minor": 5
}
