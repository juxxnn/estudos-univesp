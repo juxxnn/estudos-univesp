{
 "cells": [
  {
   "cell_type": "markdown",
   "id": "db0f8854",
   "metadata": {},
   "source": [
    "# Exercícios do livro Introdução a Computação Usando Python."
   ]
  },
  {
   "cell_type": "markdown",
   "id": "28a02a23",
   "metadata": {},
   "source": [
    "#### Escreva expressões algébricas Python correspondentes aos seguintes comandos:"
   ]
  },
  {
   "cell_type": "code",
   "execution_count": null,
   "id": "a7d14695",
   "metadata": {},
   "outputs": [],
   "source": [
    "# A soma dos 5 primeiros inteiros positivos.\n",
    "\n",
    "1 + 2 + 3 + 4 + 5"
   ]
  },
  {
   "cell_type": "code",
   "execution_count": null,
   "id": "2f1b0c7a",
   "metadata": {},
   "outputs": [],
   "source": [
    "# A idade média de Sara (idade 23), Mark (idade 19) e Fátima (idade 31).\n",
    "\n",
    "(23 + 19 + 31) / 3"
   ]
  },
  {
   "cell_type": "code",
   "execution_count": null,
   "id": "803e4da5",
   "metadata": {},
   "outputs": [],
   "source": [
    "# O número de vezes que 73 cabe em 403.\n",
    "\n",
    "403 // 73"
   ]
  },
  {
   "cell_type": "code",
   "execution_count": null,
   "id": "18cef380",
   "metadata": {},
   "outputs": [],
   "source": [
    "# O resto de quando 403 é dividido por 73.\n",
    "\n",
    "403 % 73"
   ]
  },
  {
   "cell_type": "code",
   "execution_count": null,
   "id": "3b9ac1ee",
   "metadata": {},
   "outputs": [],
   "source": [
    "# 2 à 10ª potência.\n",
    "\n",
    "2 ** 10"
   ]
  },
  {
   "cell_type": "code",
   "execution_count": null,
   "id": "c74c4ec2",
   "metadata": {},
   "outputs": [],
   "source": [
    "# O valor absoluto da distância entre a altura de Sara (54 polegadas) e a altura de Mark (57 polegadas).\n",
    "\n",
    "abs(54 - 57)"
   ]
  },
  {
   "cell_type": "code",
   "execution_count": null,
   "id": "0ac8b489",
   "metadata": {},
   "outputs": [],
   "source": [
    "# O menor preço entre os seguintes preços: R$ 34,99, R$ 29,95 e R$ 31,50.\n",
    "\n",
    "min(34.99, 29.95, 31.50)"
   ]
  },
  {
   "cell_type": "markdown",
   "id": "dc5cc3a6",
   "metadata": {},
   "source": [
    "#### Traduza os comandos a seguir para expressões Booleanas em Python e avalie-as:"
   ]
  },
  {
   "cell_type": "code",
   "execution_count": null,
   "id": "7517820c",
   "metadata": {},
   "outputs": [],
   "source": [
    "# A soma de 2 e 2 é menor que 4.\n",
    "\n",
    "2 + 2 < 4 \n",
    "\n",
    "# False"
   ]
  },
  {
   "cell_type": "code",
   "execution_count": null,
   "id": "1ab02a01",
   "metadata": {},
   "outputs": [],
   "source": [
    "# O valor de 7 // 3 é igual a 1 + 1.\n",
    "\n",
    "7 // 3 == 1 + 1\n",
    "\n",
    "# True"
   ]
  },
  {
   "cell_type": "code",
   "execution_count": null,
   "id": "05ef7999",
   "metadata": {},
   "outputs": [],
   "source": [
    "# A soma de 3 ao quadrado e 4 ao quadrado é igual a 25.\n",
    "\n",
    "3 ** 2 + 4 ** 2 == 25\n",
    "\n",
    "# True"
   ]
  },
  {
   "cell_type": "code",
   "execution_count": null,
   "id": "5f4c7e01",
   "metadata": {},
   "outputs": [],
   "source": [
    "# A soma de 2, 4 e 6 é maior que 12.\n",
    "\n",
    "2 + 4 + 6 > 12\n",
    "\n",
    "# False"
   ]
  },
  {
   "cell_type": "code",
   "execution_count": null,
   "id": "ed20698b",
   "metadata": {},
   "outputs": [],
   "source": [
    "# A soma de 2, 4 e 6 é maior que 12.\n",
    "\n",
    "1387 % 19 == 0\n",
    "\n",
    "# True"
   ]
  },
  {
   "cell_type": "code",
   "execution_count": null,
   "id": "5b1000da",
   "metadata": {},
   "outputs": [],
   "source": [
    "# 31 é par.\n",
    "\n",
    "31 % 2 == 0\n",
    "\n",
    "# False"
   ]
  },
  {
   "cell_type": "code",
   "execution_count": null,
   "id": "6ac7791f",
   "metadata": {},
   "outputs": [],
   "source": [
    "# O preço mais baixo dentre R$ 34,99, R$ 29,95 e R$ 31,50 é menor que R$ 30,00.\n",
    "\n",
    "min(34.99, 29.95, 31.50) < 30.00\n",
    "\n",
    "# True"
   ]
  },
  {
   "cell_type": "markdown",
   "id": "a4305362",
   "metadata": {},
   "source": [
    "#### Escreva instruções Python que correspondem às ações a seguir e execute-as:"
   ]
  },
  {
   "cell_type": "code",
   "execution_count": null,
   "id": "e067ee84",
   "metadata": {},
   "outputs": [],
   "source": [
    "# Atribua o valor inteiro 3 à variável a.\n",
    "\n",
    "a = 3"
   ]
  },
  {
   "cell_type": "code",
   "execution_count": null,
   "id": "47a1ce2c",
   "metadata": {},
   "outputs": [],
   "source": [
    "# Atribua 4 à variável b.\n",
    "\n",
    "b = 4"
   ]
  },
  {
   "cell_type": "code",
   "execution_count": null,
   "id": "74c264fa",
   "metadata": {},
   "outputs": [],
   "source": [
    "# Atribua à variável c o valor da expressão a * a + b * b\n",
    "\n",
    "c = a * a + b * b "
   ]
  },
  {
   "cell_type": "markdown",
   "id": "6ecf5cd8",
   "metadata": {},
   "source": [
    "#### Comece executando as instruções de atribuição: \n",
    "\n",
    ">>> s1 = 'ant'\n",
    ">>> s2 = 'bat'\n",
    ">>> s3 = 'cod'\n",
    "Escreva expressões Python usando s1, s2 e s3 e os operadores + e * a fim de avaliar para:"
   ]
  },
  {
   "cell_type": "code",
   "execution_count": null,
   "id": "6921641c",
   "metadata": {},
   "outputs": [],
   "source": [
    "# 'ant bat cod'\n",
    "\n",
    "s1 + '' + s2 + '' + s3 + ''"
   ]
  },
  {
   "cell_type": "code",
   "execution_count": null,
   "id": "247ff1b6",
   "metadata": {},
   "outputs": [],
   "source": [
    "# 'ant ant ant ant ant ant ant ant ant ant'\n",
    "\n",
    "10 * (s1 + '')"
   ]
  },
  {
   "cell_type": "code",
   "execution_count": null,
   "id": "42e5eaad",
   "metadata": {},
   "outputs": [],
   "source": [
    "# 'ant bat bat cod cod cod'\n",
    "\n",
    "s1 + '' + 2 * (s2 + '') + 2 * (s3 + '') + s3"
   ]
  },
  {
   "cell_type": "code",
   "execution_count": null,
   "id": "c8ef8ef1",
   "metadata": {},
   "outputs": [],
   "source": [
    "# 'ant bat ant bat ant bat ant bat ant bat ant bat ant bat'\n",
    "\n",
    "7 * (s1 + ''+ s2 + '')"
   ]
  },
  {
   "cell_type": "code",
   "execution_count": null,
   "id": "5b665be4",
   "metadata": {},
   "outputs": [],
   "source": [
    "# 'batbatcod batbatcod batbatcod batbatcod batbatcod'\n",
    "\n",
    "3 * (2 * s2 + s3 + '')"
   ]
  },
  {
   "cell_type": "markdown",
   "id": "95dcae90",
   "metadata": {},
   "source": [
    "#### Comece executando a atribuição:\n",
    "\n",
    ">>>> s = '0123456789'\n",
    ">>>> Agora, escreva expressões usando a string s e o operador de indexação que é avaliado como:\n"
   ]
  },
  {
   "cell_type": "code",
   "execution_count": null,
   "id": "0daffc63",
   "metadata": {},
   "outputs": [],
   "source": [
    "# '0'\n",
    "\n",
    "s[0]"
   ]
  },
  {
   "cell_type": "code",
   "execution_count": null,
   "id": "5d660dc5",
   "metadata": {},
   "outputs": [],
   "source": [
    "# '1'\n",
    "\n",
    "s[1]"
   ]
  },
  {
   "cell_type": "code",
   "execution_count": null,
   "id": "f86463af",
   "metadata": {},
   "outputs": [],
   "source": [
    "# '6'\n",
    "\n",
    "s[6]"
   ]
  },
  {
   "cell_type": "code",
   "execution_count": null,
   "id": "dd217423",
   "metadata": {},
   "outputs": [],
   "source": [
    "# '8'\n",
    "\n",
    "s[8]"
   ]
  },
  {
   "cell_type": "code",
   "execution_count": null,
   "id": "c26f1c92",
   "metadata": {},
   "outputs": [],
   "source": [
    "# '9'\n",
    "\n",
    "s[9]"
   ]
  }
 ],
 "metadata": {
  "kernelspec": {
   "display_name": "Python 3 (ipykernel)",
   "language": "python",
   "name": "python3"
  },
  "language_info": {
   "codemirror_mode": {
    "name": "ipython",
    "version": 3
   },
   "file_extension": ".py",
   "mimetype": "text/x-python",
   "name": "python",
   "nbconvert_exporter": "python",
   "pygments_lexer": "ipython3",
   "version": "3.9.7"
  }
 },
 "nbformat": 4,
 "nbformat_minor": 5
}
